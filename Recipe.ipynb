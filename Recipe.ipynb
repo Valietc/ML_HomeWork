{
  "cells": [
    {
      "cell_type": "markdown",
      "metadata": {
        "id": "nfUw5Ma0gLau"
      },
      "source": [
        "# Установка зависимостей"
      ]
    },
    {
      "cell_type": "code",
      "execution_count": 13,
      "metadata": {
        "id": "D9bPQudw90qg"
      },
      "outputs": [],
      "source": [
        "import re\n",
        "import os\n",
        "from google.colab import drive, files\n",
        "import numpy as np\n",
        "import pandas as pd\n",
        "import matplotlib.pyplot as plt\n",
        "\n",
        "from tqdm.notebook import tqdm\n",
        "\n",
        "from xgboost import XGBRegressor, XGBClassifier\n",
        "\n",
        "from sklearn.model_selection import train_test_split, GridSearchCV\n",
        "from sklearn.preprocessing import OneHotEncoder, StandardScaler,LabelEncoder, PolynomialFeatures\n",
        "from sklearn.metrics import accuracy_score\n",
        "from sklearn.linear_model import LinearRegression, LogisticRegression\n",
        "from sklearn.neighbors import KNeighborsClassifier\n",
        "from sklearn.svm import SVC\n",
        "from sklearn.naive_bayes import MultinomialNB\n",
        "from sklearn.ensemble import RandomForestClassifier, ExtraTreesClassifier\n",
        "\n",
        "from sklearn.compose import ColumnTransformer\n",
        "from sklearn.pipeline import Pipeline\n",
        "\n",
        "import seaborn as sns\n",
        "\n",
        "from lightgbm import LGBMClassifier\n",
        "\n",
        "import gc\n",
        "import warnings"
      ]
    },
    {
      "cell_type": "code",
      "execution_count": 4,
      "metadata": {
        "colab": {
          "base_uri": "https://localhost:8080/"
        },
        "id": "Xo2aYhDz-p6z",
        "outputId": "b67ab133-9515-4b9f-95a8-783f441a2ffe"
      },
      "outputs": [
        {
          "output_type": "stream",
          "name": "stdout",
          "text": [
            "Mounted at /content/drive\n"
          ]
        }
      ],
      "source": [
        "drive.mount('/content/drive')"
      ]
    },
    {
      "cell_type": "code",
      "execution_count": 5,
      "metadata": {
        "id": "sHaodH1J96Z9"
      },
      "outputs": [],
      "source": [
        "path = \"/content/drive/MyDrive/Study/7_semestr/ML/data.json\""
      ]
    },
    {
      "cell_type": "markdown",
      "metadata": {
        "id": "P8rwfQyxgQ4E"
      },
      "source": [
        "# Графики"
      ]
    },
    {
      "cell_type": "code",
      "execution_count": 7,
      "metadata": {
        "colab": {
          "base_uri": "https://localhost:8080/",
          "height": 424
        },
        "id": "vqFp4vQY__ln",
        "outputId": "eab7932f-ee6b-4590-9d4f-652c2a030869"
      },
      "outputs": [
        {
          "output_type": "execute_result",
          "data": {
            "text/plain": [
              "          id      cuisine                                        ingredients\n",
              "0      10259        greek  [romaine lettuce, black olives, grape tomatoes...\n",
              "1      25693  southern_us  [plain flour, ground pepper, salt, tomatoes, g...\n",
              "2      20130     filipino  [eggs, pepper, salt, mayonaise, cooking oil, g...\n",
              "3      22213       indian                [water, vegetable oil, wheat, salt]\n",
              "4      13162       indian  [black pepper, shallots, cornflour, cayenne pe...\n",
              "...      ...          ...                                                ...\n",
              "39769  29109        irish  [light brown sugar, granulated sugar, butter, ...\n",
              "39770  11462      italian  [KRAFT Zesty Italian Dressing, purple onion, b...\n",
              "39771   2238        irish  [eggs, citrus fruit, raisins, sourdough starte...\n",
              "39772  41882      chinese  [boneless chicken skinless thigh, minced garli...\n",
              "39773   2362      mexican  [green chile, jalapeno chilies, onions, ground...\n",
              "\n",
              "[39774 rows x 3 columns]"
            ],
            "text/html": [
              "\n",
              "  <div id=\"df-02e8474c-0b43-4a3f-b209-ca30dc8b0212\" class=\"colab-df-container\">\n",
              "    <div>\n",
              "<style scoped>\n",
              "    .dataframe tbody tr th:only-of-type {\n",
              "        vertical-align: middle;\n",
              "    }\n",
              "\n",
              "    .dataframe tbody tr th {\n",
              "        vertical-align: top;\n",
              "    }\n",
              "\n",
              "    .dataframe thead th {\n",
              "        text-align: right;\n",
              "    }\n",
              "</style>\n",
              "<table border=\"1\" class=\"dataframe\">\n",
              "  <thead>\n",
              "    <tr style=\"text-align: right;\">\n",
              "      <th></th>\n",
              "      <th>id</th>\n",
              "      <th>cuisine</th>\n",
              "      <th>ingredients</th>\n",
              "    </tr>\n",
              "  </thead>\n",
              "  <tbody>\n",
              "    <tr>\n",
              "      <th>0</th>\n",
              "      <td>10259</td>\n",
              "      <td>greek</td>\n",
              "      <td>[romaine lettuce, black olives, grape tomatoes...</td>\n",
              "    </tr>\n",
              "    <tr>\n",
              "      <th>1</th>\n",
              "      <td>25693</td>\n",
              "      <td>southern_us</td>\n",
              "      <td>[plain flour, ground pepper, salt, tomatoes, g...</td>\n",
              "    </tr>\n",
              "    <tr>\n",
              "      <th>2</th>\n",
              "      <td>20130</td>\n",
              "      <td>filipino</td>\n",
              "      <td>[eggs, pepper, salt, mayonaise, cooking oil, g...</td>\n",
              "    </tr>\n",
              "    <tr>\n",
              "      <th>3</th>\n",
              "      <td>22213</td>\n",
              "      <td>indian</td>\n",
              "      <td>[water, vegetable oil, wheat, salt]</td>\n",
              "    </tr>\n",
              "    <tr>\n",
              "      <th>4</th>\n",
              "      <td>13162</td>\n",
              "      <td>indian</td>\n",
              "      <td>[black pepper, shallots, cornflour, cayenne pe...</td>\n",
              "    </tr>\n",
              "    <tr>\n",
              "      <th>...</th>\n",
              "      <td>...</td>\n",
              "      <td>...</td>\n",
              "      <td>...</td>\n",
              "    </tr>\n",
              "    <tr>\n",
              "      <th>39769</th>\n",
              "      <td>29109</td>\n",
              "      <td>irish</td>\n",
              "      <td>[light brown sugar, granulated sugar, butter, ...</td>\n",
              "    </tr>\n",
              "    <tr>\n",
              "      <th>39770</th>\n",
              "      <td>11462</td>\n",
              "      <td>italian</td>\n",
              "      <td>[KRAFT Zesty Italian Dressing, purple onion, b...</td>\n",
              "    </tr>\n",
              "    <tr>\n",
              "      <th>39771</th>\n",
              "      <td>2238</td>\n",
              "      <td>irish</td>\n",
              "      <td>[eggs, citrus fruit, raisins, sourdough starte...</td>\n",
              "    </tr>\n",
              "    <tr>\n",
              "      <th>39772</th>\n",
              "      <td>41882</td>\n",
              "      <td>chinese</td>\n",
              "      <td>[boneless chicken skinless thigh, minced garli...</td>\n",
              "    </tr>\n",
              "    <tr>\n",
              "      <th>39773</th>\n",
              "      <td>2362</td>\n",
              "      <td>mexican</td>\n",
              "      <td>[green chile, jalapeno chilies, onions, ground...</td>\n",
              "    </tr>\n",
              "  </tbody>\n",
              "</table>\n",
              "<p>39774 rows × 3 columns</p>\n",
              "</div>\n",
              "    <div class=\"colab-df-buttons\">\n",
              "\n",
              "  <div class=\"colab-df-container\">\n",
              "    <button class=\"colab-df-convert\" onclick=\"convertToInteractive('df-02e8474c-0b43-4a3f-b209-ca30dc8b0212')\"\n",
              "            title=\"Convert this dataframe to an interactive table.\"\n",
              "            style=\"display:none;\">\n",
              "\n",
              "  <svg xmlns=\"http://www.w3.org/2000/svg\" height=\"24px\" viewBox=\"0 -960 960 960\">\n",
              "    <path d=\"M120-120v-720h720v720H120Zm60-500h600v-160H180v160Zm220 220h160v-160H400v160Zm0 220h160v-160H400v160ZM180-400h160v-160H180v160Zm440 0h160v-160H620v160ZM180-180h160v-160H180v160Zm440 0h160v-160H620v160Z\"/>\n",
              "  </svg>\n",
              "    </button>\n",
              "\n",
              "  <style>\n",
              "    .colab-df-container {\n",
              "      display:flex;\n",
              "      gap: 12px;\n",
              "    }\n",
              "\n",
              "    .colab-df-convert {\n",
              "      background-color: #E8F0FE;\n",
              "      border: none;\n",
              "      border-radius: 50%;\n",
              "      cursor: pointer;\n",
              "      display: none;\n",
              "      fill: #1967D2;\n",
              "      height: 32px;\n",
              "      padding: 0 0 0 0;\n",
              "      width: 32px;\n",
              "    }\n",
              "\n",
              "    .colab-df-convert:hover {\n",
              "      background-color: #E2EBFA;\n",
              "      box-shadow: 0px 1px 2px rgba(60, 64, 67, 0.3), 0px 1px 3px 1px rgba(60, 64, 67, 0.15);\n",
              "      fill: #174EA6;\n",
              "    }\n",
              "\n",
              "    .colab-df-buttons div {\n",
              "      margin-bottom: 4px;\n",
              "    }\n",
              "\n",
              "    [theme=dark] .colab-df-convert {\n",
              "      background-color: #3B4455;\n",
              "      fill: #D2E3FC;\n",
              "    }\n",
              "\n",
              "    [theme=dark] .colab-df-convert:hover {\n",
              "      background-color: #434B5C;\n",
              "      box-shadow: 0px 1px 3px 1px rgba(0, 0, 0, 0.15);\n",
              "      filter: drop-shadow(0px 1px 2px rgba(0, 0, 0, 0.3));\n",
              "      fill: #FFFFFF;\n",
              "    }\n",
              "  </style>\n",
              "\n",
              "    <script>\n",
              "      const buttonEl =\n",
              "        document.querySelector('#df-02e8474c-0b43-4a3f-b209-ca30dc8b0212 button.colab-df-convert');\n",
              "      buttonEl.style.display =\n",
              "        google.colab.kernel.accessAllowed ? 'block' : 'none';\n",
              "\n",
              "      async function convertToInteractive(key) {\n",
              "        const element = document.querySelector('#df-02e8474c-0b43-4a3f-b209-ca30dc8b0212');\n",
              "        const dataTable =\n",
              "          await google.colab.kernel.invokeFunction('convertToInteractive',\n",
              "                                                    [key], {});\n",
              "        if (!dataTable) return;\n",
              "\n",
              "        const docLinkHtml = 'Like what you see? Visit the ' +\n",
              "          '<a target=\"_blank\" href=https://colab.research.google.com/notebooks/data_table.ipynb>data table notebook</a>'\n",
              "          + ' to learn more about interactive tables.';\n",
              "        element.innerHTML = '';\n",
              "        dataTable['output_type'] = 'display_data';\n",
              "        await google.colab.output.renderOutput(dataTable, element);\n",
              "        const docLink = document.createElement('div');\n",
              "        docLink.innerHTML = docLinkHtml;\n",
              "        element.appendChild(docLink);\n",
              "      }\n",
              "    </script>\n",
              "  </div>\n",
              "\n",
              "\n",
              "<div id=\"df-b19661d2-eebd-4de7-9551-9ff6f4de3388\">\n",
              "  <button class=\"colab-df-quickchart\" onclick=\"quickchart('df-b19661d2-eebd-4de7-9551-9ff6f4de3388')\"\n",
              "            title=\"Suggest charts\"\n",
              "            style=\"display:none;\">\n",
              "\n",
              "<svg xmlns=\"http://www.w3.org/2000/svg\" height=\"24px\"viewBox=\"0 0 24 24\"\n",
              "     width=\"24px\">\n",
              "    <g>\n",
              "        <path d=\"M19 3H5c-1.1 0-2 .9-2 2v14c0 1.1.9 2 2 2h14c1.1 0 2-.9 2-2V5c0-1.1-.9-2-2-2zM9 17H7v-7h2v7zm4 0h-2V7h2v10zm4 0h-2v-4h2v4z\"/>\n",
              "    </g>\n",
              "</svg>\n",
              "  </button>\n",
              "\n",
              "<style>\n",
              "  .colab-df-quickchart {\n",
              "      --bg-color: #E8F0FE;\n",
              "      --fill-color: #1967D2;\n",
              "      --hover-bg-color: #E2EBFA;\n",
              "      --hover-fill-color: #174EA6;\n",
              "      --disabled-fill-color: #AAA;\n",
              "      --disabled-bg-color: #DDD;\n",
              "  }\n",
              "\n",
              "  [theme=dark] .colab-df-quickchart {\n",
              "      --bg-color: #3B4455;\n",
              "      --fill-color: #D2E3FC;\n",
              "      --hover-bg-color: #434B5C;\n",
              "      --hover-fill-color: #FFFFFF;\n",
              "      --disabled-bg-color: #3B4455;\n",
              "      --disabled-fill-color: #666;\n",
              "  }\n",
              "\n",
              "  .colab-df-quickchart {\n",
              "    background-color: var(--bg-color);\n",
              "    border: none;\n",
              "    border-radius: 50%;\n",
              "    cursor: pointer;\n",
              "    display: none;\n",
              "    fill: var(--fill-color);\n",
              "    height: 32px;\n",
              "    padding: 0;\n",
              "    width: 32px;\n",
              "  }\n",
              "\n",
              "  .colab-df-quickchart:hover {\n",
              "    background-color: var(--hover-bg-color);\n",
              "    box-shadow: 0 1px 2px rgba(60, 64, 67, 0.3), 0 1px 3px 1px rgba(60, 64, 67, 0.15);\n",
              "    fill: var(--button-hover-fill-color);\n",
              "  }\n",
              "\n",
              "  .colab-df-quickchart-complete:disabled,\n",
              "  .colab-df-quickchart-complete:disabled:hover {\n",
              "    background-color: var(--disabled-bg-color);\n",
              "    fill: var(--disabled-fill-color);\n",
              "    box-shadow: none;\n",
              "  }\n",
              "\n",
              "  .colab-df-spinner {\n",
              "    border: 2px solid var(--fill-color);\n",
              "    border-color: transparent;\n",
              "    border-bottom-color: var(--fill-color);\n",
              "    animation:\n",
              "      spin 1s steps(1) infinite;\n",
              "  }\n",
              "\n",
              "  @keyframes spin {\n",
              "    0% {\n",
              "      border-color: transparent;\n",
              "      border-bottom-color: var(--fill-color);\n",
              "      border-left-color: var(--fill-color);\n",
              "    }\n",
              "    20% {\n",
              "      border-color: transparent;\n",
              "      border-left-color: var(--fill-color);\n",
              "      border-top-color: var(--fill-color);\n",
              "    }\n",
              "    30% {\n",
              "      border-color: transparent;\n",
              "      border-left-color: var(--fill-color);\n",
              "      border-top-color: var(--fill-color);\n",
              "      border-right-color: var(--fill-color);\n",
              "    }\n",
              "    40% {\n",
              "      border-color: transparent;\n",
              "      border-right-color: var(--fill-color);\n",
              "      border-top-color: var(--fill-color);\n",
              "    }\n",
              "    60% {\n",
              "      border-color: transparent;\n",
              "      border-right-color: var(--fill-color);\n",
              "    }\n",
              "    80% {\n",
              "      border-color: transparent;\n",
              "      border-right-color: var(--fill-color);\n",
              "      border-bottom-color: var(--fill-color);\n",
              "    }\n",
              "    90% {\n",
              "      border-color: transparent;\n",
              "      border-bottom-color: var(--fill-color);\n",
              "    }\n",
              "  }\n",
              "</style>\n",
              "\n",
              "  <script>\n",
              "    async function quickchart(key) {\n",
              "      const quickchartButtonEl =\n",
              "        document.querySelector('#' + key + ' button');\n",
              "      quickchartButtonEl.disabled = true;  // To prevent multiple clicks.\n",
              "      quickchartButtonEl.classList.add('colab-df-spinner');\n",
              "      try {\n",
              "        const charts = await google.colab.kernel.invokeFunction(\n",
              "            'suggestCharts', [key], {});\n",
              "      } catch (error) {\n",
              "        console.error('Error during call to suggestCharts:', error);\n",
              "      }\n",
              "      quickchartButtonEl.classList.remove('colab-df-spinner');\n",
              "      quickchartButtonEl.classList.add('colab-df-quickchart-complete');\n",
              "    }\n",
              "    (() => {\n",
              "      let quickchartButtonEl =\n",
              "        document.querySelector('#df-b19661d2-eebd-4de7-9551-9ff6f4de3388 button');\n",
              "      quickchartButtonEl.style.display =\n",
              "        google.colab.kernel.accessAllowed ? 'block' : 'none';\n",
              "    })();\n",
              "  </script>\n",
              "</div>\n",
              "    </div>\n",
              "  </div>\n"
            ]
          },
          "metadata": {},
          "execution_count": 7
        }
      ],
      "source": [
        "df = pd.read_json(path, orient ='records')\n",
        "df"
      ]
    },
    {
      "cell_type": "code",
      "execution_count": 8,
      "metadata": {
        "colab": {
          "base_uri": "https://localhost:8080/"
        },
        "id": "o0WjVj7OA4fw",
        "outputId": "127bb0cc-64de-49d4-c09c-03a50fcc737f"
      },
      "outputs": [
        {
          "output_type": "stream",
          "name": "stdout",
          "text": [
            "<class 'pandas.core.frame.DataFrame'>\n",
            "RangeIndex: 39774 entries, 0 to 39773\n",
            "Data columns (total 3 columns):\n",
            " #   Column       Non-Null Count  Dtype \n",
            "---  ------       --------------  ----- \n",
            " 0   id           39774 non-null  int64 \n",
            " 1   cuisine      39774 non-null  object\n",
            " 2   ingredients  39774 non-null  object\n",
            "dtypes: int64(1), object(2)\n",
            "memory usage: 932.3+ KB\n"
          ]
        }
      ],
      "source": [
        "# Смотрим информацию о датасете, проверяем все ли ячейки заполнены\n",
        "df.info()"
      ]
    },
    {
      "cell_type": "code",
      "execution_count": 9,
      "metadata": {
        "colab": {
          "base_uri": "https://localhost:8080/"
        },
        "id": "oMRo0Rh2BU93",
        "outputId": "d1fa0f59-56aa-4fd6-9bbd-f3910cc147b4"
      },
      "outputs": [
        {
          "output_type": "execute_result",
          "data": {
            "text/plain": [
              "Index(['id', 'cuisine', 'ingredients'], dtype='object')"
            ]
          },
          "metadata": {},
          "execution_count": 9
        }
      ],
      "source": [
        "# Смотрим какие колонки в датасете\n",
        "cols = df.columns\n",
        "cols"
      ]
    },
    {
      "cell_type": "code",
      "source": [
        "# Смотрим уникальные cuisine\n",
        "df.cuisine.unique()"
      ],
      "metadata": {
        "colab": {
          "base_uri": "https://localhost:8080/"
        },
        "id": "T6pr9i8NA1kW",
        "outputId": "66d2af04-d2ac-477b-8b5a-cfdddad23f0e"
      },
      "execution_count": 10,
      "outputs": [
        {
          "output_type": "execute_result",
          "data": {
            "text/plain": [
              "array(['greek', 'southern_us', 'filipino', 'indian', 'jamaican',\n",
              "       'spanish', 'italian', 'mexican', 'chinese', 'british', 'thai',\n",
              "       'vietnamese', 'cajun_creole', 'brazilian', 'french', 'japanese',\n",
              "       'irish', 'korean', 'moroccan', 'russian'], dtype=object)"
            ]
          },
          "metadata": {},
          "execution_count": 10
        }
      ]
    },
    {
      "cell_type": "code",
      "source": [
        "print('Maximum of ingredients in a dish: ', df['ingredients'].str.len().max())\n",
        "print('Minimum of ingredients in a dish: ', df['ingredients'].str.len().min())"
      ],
      "metadata": {
        "colab": {
          "base_uri": "https://localhost:8080/"
        },
        "id": "7JaqOUX7BA8T",
        "outputId": "eafcb5ea-edc6-4fd4-acac-cae774bee658"
      },
      "execution_count": null,
      "outputs": [
        {
          "output_type": "stream",
          "name": "stdout",
          "text": [
            "Maximum of ingredients in a dish:  65\n",
            "Minimum of ingredients in a dish:  1\n"
          ]
        }
      ]
    },
    {
      "cell_type": "code",
      "source": [
        "plt.hist(df['ingredients'].str.len(),bins=max(df['ingredients'].str.len()),edgecolor='b')\n",
        "plt.gcf().set_size_inches(16,8)\n",
        "plt.title('Распределение рецептов от количества ингридиентов')\n",
        "plt.xlabel('Количество ингредиентов')\n",
        "plt.ylabel('Количество рецептов')\n",
        "plt.show()"
      ],
      "metadata": {
        "colab": {
          "base_uri": "https://localhost:8080/",
          "height": 718
        },
        "id": "XIOXBFAhB7Un",
        "outputId": "737dbf6d-492e-48fe-cdbf-ea51405c8300"
      },
      "execution_count": null,
      "outputs": [
        {
          "output_type": "display_data",
          "data": {
            "text/plain": [
              "<Figure size 1600x800 with 1 Axes>"
            ],
            "image/png": "[encoded data removed]"
          },
          "metadata": {}
        }
      ]
    },
    {
      "cell_type": "code",
      "source": [
        "# выведем распределение блюд для каждой из стран\n",
        "df.cuisine.value_counts().plot.barh()"
      ],
      "metadata": {
        "colab": {
          "base_uri": "https://localhost:8080/",
          "height": 448
        },
        "id": "7DFjqqeyDP_l",
        "outputId": "a1640ca5-e878-4056-95c1-0c7bd20ec073"
      },
      "execution_count": null,
      "outputs": [
        {
          "output_type": "execute_result",
          "data": {
            "text/plain": [
              "<Axes: >"
            ]
          },
          "metadata": {},
          "execution_count": 16
        },
        {
          "output_type": "display_data",
          "data": {
            "text/plain": [
              "<Figure size 640x480 with 1 Axes>"
            ],
            "image/png": "[encoded data removed]"
          },
          "metadata": {}
        }
      ]
    },
    {
      "cell_type": "markdown",
      "source": [
        "Видим, что классы плохо распределены, можно достичь accuracy = 20% просто говоря, что блюдо итальянское))"
      ],
      "metadata": {
        "id": "MH4SPuHufMHH"
      }
    },
    {
      "cell_type": "code",
      "execution_count": 14,
      "metadata": {
        "colab": {
          "base_uri": "https://localhost:8080/",
          "height": 49,
          "referenced_widgets": [
            "97de21cbbab147de8da13132330f0b73",
            "a741123d30b740a0aca6d030fabe341f",
            "b9b97785428d4f1eb4fa0d33dc994da9",
            "427614d535854a498c3dbf567d0ccbf3",
            "4a2a6c83ef424aff9e2e3b3ed1ebcfc3",
            "742694b929c54601b70db453889c86ae",
            "8189d6abdc454753bc8461c89aa7f2f6",
            "c6eab79ed53845059f3680f8d05dc7ba",
            "1a5407ce319147bbb3a66a2f6703461e",
            "d8d43e670f4346958a2d84aa490e1cc8",
            "58e54df0b2a0446595a0cc7eda823d7a"
          ]
        },
        "id": "kQu4vR0iE5qh",
        "outputId": "42a28259-f4b7-4634-bcdd-de0595726944"
      },
      "outputs": [
        {
          "output_type": "display_data",
          "data": {
            "text/plain": [
              "  0%|          | 0/6714 [00:00<?, ?it/s]"
            ],
            "application/vnd.jupyter.widget-view+json": {
              "version_major": 2,
              "version_minor": 0,
              "model_id": "97de21cbbab147de8da13132330f0b73"
            }
          },
          "metadata": {}
        }
      ],
      "source": [
        "# Игнорирование предупреждений о производительности\n",
        "warnings.simplefilter(action='ignore', category=pd.errors.PerformanceWarning)\n",
        "\n",
        "# Преобразование списка ингредиентов в один список\n",
        "massive_products = list(set(ingredient for sublist in df['ingredients'] for ingredient in sublist))\n",
        "\n",
        "# Создание словаря для присвоения уникальных индексов ингредиентам\n",
        "voc_products = {ingredient: i + 1 for i, ingredient in enumerate(massive_products)}\n",
        "\n",
        "# Замена строк в столбце 'ingredients' на списки индексов\n",
        "df['ingredients'] = df['ingredients'].apply(lambda x: [voc_products[ingredient] for ingredient in x])\n",
        "\n",
        "# Создание отдельных столбцов для каждого ингредиента\n",
        "for i, ingredient in tqdm(enumerate(massive_products), total=len(massive_products)):\n",
        "    df[f'ingr_{i+1}'] = df['ingredients'].apply(lambda x: 1 if i+1 in x else 0)\n",
        "\n",
        "# Восстановление вывода предупреждений (если нужно)\n",
        "warnings.simplefilter(action='default', category=pd.errors.PerformanceWarning)"
      ]
    },
    {
      "cell_type": "code",
      "execution_count": 15,
      "metadata": {
        "colab": {
          "base_uri": "https://localhost:8080/"
        },
        "id": "k_mDwS2ahBA2",
        "outputId": "4990b671-f9c7-4f03-ae47-f88797b61060"
      },
      "outputs": [
        {
          "output_type": "execute_result",
          "data": {
            "text/plain": [
              "Index(['id', 'cuisine', 'ingredients', 'ingr_1', 'ingr_2', 'ingr_3', 'ingr_4',\n",
              "       'ingr_5', 'ingr_6', 'ingr_7',\n",
              "       ...\n",
              "       'ingr_6705', 'ingr_6706', 'ingr_6707', 'ingr_6708', 'ingr_6709',\n",
              "       'ingr_6710', 'ingr_6711', 'ingr_6712', 'ingr_6713', 'ingr_6714'],\n",
              "      dtype='object', length=6717)"
            ]
          },
          "metadata": {},
          "execution_count": 15
        }
      ],
      "source": [
        "df.columns"
      ]
    },
    {
      "cell_type": "code",
      "source": [
        "#no of Ingredients\n",
        "df['numberofingredient'] = df['ingredients'].str.len()\n",
        "plt.figure(figsize=(20,8))\n",
        "sns.boxplot(x='cuisine',y='numberofingredient',data=df)"
      ],
      "metadata": {
        "colab": {
          "base_uri": "https://localhost:8080/",
          "height": 714
        },
        "id": "XiOsCeWeJHiz",
        "outputId": "2cd8eddb-4768-4e6b-d885-f717ae5c49c9"
      },
      "execution_count": null,
      "outputs": [
        {
          "output_type": "execute_result",
          "data": {
            "text/plain": [
              "<Axes: xlabel='cuisine', ylabel='numberofingredient'>"
            ]
          },
          "metadata": {},
          "execution_count": 11
        },
        {
          "output_type": "display_data",
          "data": {
            "text/plain": [
              "<Figure size 2000x800 with 1 Axes>"
            ],
            "image/png": "[encoded data removed]"
          },
          "metadata": {}
        }
      ]
    },
    {
      "cell_type": "markdown",
      "metadata": {
        "id": "w6xWOFdJgGX1"
      },
      "source": [
        "# Обучение различных моделей"
      ]
    },
    {
      "cell_type": "code",
      "source": [
        "X = df.drop(columns=['id', 'cuisine', 'ingredients']).values\n",
        "y = df['cuisine'].values\n",
        "# Освобождаем оперативку\n",
        "del df\n",
        "gc.collect()"
      ],
      "metadata": {
        "colab": {
          "base_uri": "https://localhost:8080/"
        },
        "id": "gHUYchruE6SM",
        "outputId": "697e539a-881c-47c5-b1c3-54cbfb264eb9"
      },
      "execution_count": null,
      "outputs": [
        {
          "output_type": "execute_result",
          "data": {
            "text/plain": [
              "0"
            ]
          },
          "metadata": {},
          "execution_count": 20
        }
      ]
    },
    {
      "cell_type": "code",
      "execution_count": null,
      "metadata": {
        "id": "_e2jKrff4QwO"
      },
      "outputs": [],
      "source": [
        "X_train, X_test, y_train, y_test = train_test_split(X, y, test_size=0.3, random_state=42)"
      ]
    },
    {
      "cell_type": "code",
      "execution_count": null,
      "metadata": {
        "colab": {
          "base_uri": "https://localhost:8080/"
        },
        "id": "kXPxmcBcN4nw",
        "outputId": "687ea4a0-839b-4738-8d37-da9c60b25933"
      },
      "outputs": [
        {
          "output_type": "stream",
          "name": "stdout",
          "text": [
            "Accuracy =  0.3801223497863069\n"
          ]
        }
      ],
      "source": [
        "model = KNeighborsClassifier(n_neighbors=1000)\n",
        "model.fit(X_train, y_train)\n",
        "preds = model.predict(X_test)\n",
        "del model\n",
        "gc.collect()\n",
        "accuracy = accuracy_score(y_test, preds)\n",
        "print(\"Accuracy = \", accuracy)"
      ]
    },
    {
      "cell_type": "code",
      "source": [
        "model = RandomForestClassifier()\n",
        "model.fit(X_train, y_train)\n",
        "preds = model.predict(X_test)\n",
        "del model\n",
        "gc.collect()\n",
        "accuracy = accuracy_score(y_test, preds)\n",
        "print(\"Accuracy = \", accuracy)"
      ],
      "metadata": {
        "colab": {
          "base_uri": "https://localhost:8080/"
        },
        "id": "giYPusMRGhNM",
        "outputId": "07c830b9-0332-426b-d72c-552cb1dfd289"
      },
      "execution_count": null,
      "outputs": [
        {
          "output_type": "stream",
          "name": "stdout",
          "text": [
            "Accuracy =  0.7116399899438531\n"
          ]
        }
      ]
    },
    {
      "cell_type": "code",
      "source": [
        "model = LogisticRegression(penalty='l2', C = 100, max_iter=1000)\n",
        "model.fit(X_train, y_train)\n",
        "preds = model.predict(X_test)\n",
        "del model\n",
        "gc.collect()\n",
        "accuracy = accuracy_score(y_test, preds)\n",
        "print(\"Accuracy = \", accuracy)"
      ],
      "metadata": {
        "colab": {
          "base_uri": "https://localhost:8080/"
        },
        "id": "CzIfxXuhGajD",
        "outputId": "d6e63dcc-50de-49bd-fb6e-d4bde1971582"
      },
      "execution_count": null,
      "outputs": [
        {
          "output_type": "stream",
          "name": "stdout",
          "text": [
            "Accuracy =  0.7145730327662784\n"
          ]
        }
      ]
    },
    {
      "cell_type": "markdown",
      "source": [
        "## GridSearch RandomForest"
      ],
      "metadata": {
        "id": "O9bciadhbx2V"
      }
    },
    {
      "cell_type": "code",
      "source": [
        "# написал свой гридсерч для RandomForest\n",
        "param_grid = {\n",
        "    'n_estimators': [50, 100],\n",
        "    'max_depth': [None, 10],\n",
        "    'min_samples_split': [2, 5]\n",
        "}\n",
        "\n",
        "for n_estimator in param_grid['n_estimators']:\n",
        "    for depth in param_grid['max_depth']:\n",
        "        for samples_split in param_grid['min_samples_split']:\n",
        "            model = RandomForestClassifier(n_estimators=n_estimator,max_depth=depth,min_samples_split=samples_split)\n",
        "            model.fit(X_train, y_train)\n",
        "            preds = model.predict(X_test)\n",
        "            del model\n",
        "            gc.collect()\n",
        "            accuracy = accuracy_score(y_test, preds)\n",
        "            print(f\"RandomForest(n_estimators={n_estimator}, max_depth={depth}, min_samples_split={samples_split}): Accuracy = \", accuracy)"
      ],
      "metadata": {
        "colab": {
          "base_uri": "https://localhost:8080/"
        },
        "id": "4S3NUnlVbw7W",
        "outputId": "f3c59043-b2ab-4930-dd43-6b4db6039881"
      },
      "execution_count": null,
      "outputs": [
        {
          "output_type": "stream",
          "name": "stdout",
          "text": [
            "RandomForest(n_estimators=50, max_depth=None, min_samples_split=2): Accuracy =  0.7067795189809771\n",
            "RandomForest(n_estimators=50, max_depth=None, min_samples_split=5): Accuracy =  0.7086231458979301\n",
            "RandomForest(n_estimators=50, max_depth=10, min_samples_split=2): Accuracy =  0.4245369982401743\n",
            "RandomForest(n_estimators=50, max_depth=10, min_samples_split=5): Accuracy =  0.42445319701667644\n",
            "RandomForest(n_estimators=100, max_depth=None, min_samples_split=2): Accuracy =  0.7107181764853767\n",
            "RandomForest(n_estimators=100, max_depth=None, min_samples_split=5): Accuracy =  0.7110533813793681\n",
            "RandomForest(n_estimators=100, max_depth=10, min_samples_split=2): Accuracy =  0.4319953071314841\n",
            "RandomForest(n_estimators=100, max_depth=10, min_samples_split=5): Accuracy =  0.43073828877901615\n"
          ]
        }
      ]
    },
    {
      "cell_type": "markdown",
      "source": [
        "# Результаты"
      ],
      "metadata": {
        "id": "a43mQ_GG1CXE"
      }
    },
    {
      "cell_type": "markdown",
      "source": [
        "**Лучший результат:**\n",
        "\n",
        "RandomForest(n_estimators=100, max_depth=None, min_samples_split=5): Accuracy =  0.7110533813793681\n"
      ],
      "metadata": {
        "id": "hiBP-lU91Glt"
      }
    }
  ],
  "metadata": {
    "colab": {
      "provenance": []
    },
    "kernelspec": {
      "display_name": "Python 3",
      "name": "python3"
    },
    "language_info": {
      "name": "python"
    },
    "widgets": {
      "application/vnd.jupyter.widget-state+json": {
        "97de21cbbab147de8da13132330f0b73": {
          "model_module": "@jupyter-widgets/controls",
          "model_name": "HBoxModel",
          "model_module_version": "1.5.0",
          "state": {
            "_dom_classes": [],
            "_model_module": "@jupyter-widgets/controls",
            "_model_module_version": "1.5.0",
            "_model_name": "HBoxModel",
            "_view_count": null,
            "_view_module": "@jupyter-widgets/controls",
            "_view_module_version": "1.5.0",
            "_view_name": "HBoxView",
            "box_style": "",
            "children": [
              "IPY_MODEL_a741123d30b740a0aca6d030fabe341f",
              "IPY_MODEL_b9b97785428d4f1eb4fa0d33dc994da9",
              "IPY_MODEL_427614d535854a498c3dbf567d0ccbf3"
            ],
            "layout": "IPY_MODEL_4a2a6c83ef424aff9e2e3b3ed1ebcfc3"
          }
        },
        "a741123d30b740a0aca6d030fabe341f": {
          "model_module": "@jupyter-widgets/controls",
          "model_name": "HTMLModel",
          "model_module_version": "1.5.0",
          "state": {
            "_dom_classes": [],
            "_model_module": "@jupyter-widgets/controls",
            "_model_module_version": "1.5.0",
            "_model_name": "HTMLModel",
            "_view_count": null,
            "_view_module": "@jupyter-widgets/controls",
            "_view_module_version": "1.5.0",
            "_view_name": "HTMLView",
            "description": "",
            "description_tooltip": null,
            "layout": "IPY_MODEL_742694b929c54601b70db453889c86ae",
            "placeholder": "​",
            "style": "IPY_MODEL_8189d6abdc454753bc8461c89aa7f2f6",
            "value": "100%"
          }
        },
        "b9b97785428d4f1eb4fa0d33dc994da9": {
          "model_module": "@jupyter-widgets/controls",
          "model_name": "FloatProgressModel",
          "model_module_version": "1.5.0",
          "state": {
            "_dom_classes": [],
            "_model_module": "@jupyter-widgets/controls",
            "_model_module_version": "1.5.0",
            "_model_name": "FloatProgressModel",
            "_view_count": null,
            "_view_module": "@jupyter-widgets/controls",
            "_view_module_version": "1.5.0",
            "_view_name": "ProgressView",
            "bar_style": "success",
            "description": "",
            "description_tooltip": null,
            "layout": "IPY_MODEL_c6eab79ed53845059f3680f8d05dc7ba",
            "max": 6714,
            "min": 0,
            "orientation": "horizontal",
            "style": "IPY_MODEL_1a5407ce319147bbb3a66a2f6703461e",
            "value": 6714
          }
        },
        "427614d535854a498c3dbf567d0ccbf3": {
          "model_module": "@jupyter-widgets/controls",
          "model_name": "HTMLModel",
          "model_module_version": "1.5.0",
          "state": {
            "_dom_classes": [],
            "_model_module": "@jupyter-widgets/controls",
            "_model_module_version": "1.5.0",
            "_model_name": "HTMLModel",
            "_view_count": null,
            "_view_module": "@jupyter-widgets/controls",
            "_view_module_version": "1.5.0",
            "_view_name": "HTMLView",
            "description": "",
            "description_tooltip": null,
            "layout": "IPY_MODEL_d8d43e670f4346958a2d84aa490e1cc8",
            "placeholder": "​",
            "style": "IPY_MODEL_58e54df0b2a0446595a0cc7eda823d7a",
            "value": " 6714/6714 [04:20&lt;00:00, 30.42it/s]"
          }
        },
        "4a2a6c83ef424aff9e2e3b3ed1ebcfc3": {
          "model_module": "@jupyter-widgets/base",
          "model_name": "LayoutModel",
          "model_module_version": "1.2.0",
          "state": {
            "_model_module": "@jupyter-widgets/base",
            "_model_module_version": "1.2.0",
            "_model_name": "LayoutModel",
            "_view_count": null,
            "_view_module": "@jupyter-widgets/base",
            "_view_module_version": "1.2.0",
            "_view_name": "LayoutView",
            "align_content": null,
            "align_items": null,
            "align_self": null,
            "border": null,
            "bottom": null,
            "display": null,
            "flex": null,
            "flex_flow": null,
            "grid_area": null,
            "grid_auto_columns": null,
            "grid_auto_flow": null,
            "grid_auto_rows": null,
            "grid_column": null,
            "grid_gap": null,
            "grid_row": null,
            "grid_template_areas": null,
            "grid_template_columns": null,
            "grid_template_rows": null,
            "height": null,
            "justify_content": null,
            "justify_items": null,
            "left": null,
            "margin": null,
            "max_height": null,
            "max_width": null,
            "min_height": null,
            "min_width": null,
            "object_fit": null,
            "object_position": null,
            "order": null,
            "overflow": null,
            "overflow_x": null,
            "overflow_y": null,
            "padding": null,
            "right": null,
            "top": null,
            "visibility": null,
            "width": null
          }
        },
        "742694b929c54601b70db453889c86ae": {
          "model_module": "@jupyter-widgets/base",
          "model_name": "LayoutModel",
          "model_module_version": "1.2.0",
          "state": {
            "_model_module": "@jupyter-widgets/base",
            "_model_module_version": "1.2.0",
            "_model_name": "LayoutModel",
            "_view_count": null,
            "_view_module": "@jupyter-widgets/base",
            "_view_module_version": "1.2.0",
            "_view_name": "LayoutView",
            "align_content": null,
            "align_items": null,
            "align_self": null,
            "border": null,
            "bottom": null,
            "display": null,
            "flex": null,
            "flex_flow": null,
            "grid_area": null,
            "grid_auto_columns": null,
            "grid_auto_flow": null,
            "grid_auto_rows": null,
            "grid_column": null,
            "grid_gap": null,
            "grid_row": null,
            "grid_template_areas": null,
            "grid_template_columns": null,
            "grid_template_rows": null,
            "height": null,
            "justify_content": null,
            "justify_items": null,
            "left": null,
            "margin": null,
            "max_height": null,
            "max_width": null,
            "min_height": null,
            "min_width": null,
            "object_fit": null,
            "object_position": null,
            "order": null,
            "overflow": null,
            "overflow_x": null,
            "overflow_y": null,
            "padding": null,
            "right": null,
            "top": null,
            "visibility": null,
            "width": null
          }
        },
        "8189d6abdc454753bc8461c89aa7f2f6": {
          "model_module": "@jupyter-widgets/controls",
          "model_name": "DescriptionStyleModel",
          "model_module_version": "1.5.0",
          "state": {
            "_model_module": "@jupyter-widgets/controls",
            "_model_module_version": "1.5.0",
            "_model_name": "DescriptionStyleModel",
            "_view_count": null,
            "_view_module": "@jupyter-widgets/base",
            "_view_module_version": "1.2.0",
            "_view_name": "StyleView",
            "description_width": ""
          }
        },
        "c6eab79ed53845059f3680f8d05dc7ba": {
          "model_module": "@jupyter-widgets/base",
          "model_name": "LayoutModel",
          "model_module_version": "1.2.0",
          "state": {
            "_model_module": "@jupyter-widgets/base",
            "_model_module_version": "1.2.0",
            "_model_name": "LayoutModel",
            "_view_count": null,
            "_view_module": "@jupyter-widgets/base",
            "_view_module_version": "1.2.0",
            "_view_name": "LayoutView",
            "align_content": null,
            "align_items": null,
            "align_self": null,
            "border": null,
            "bottom": null,
            "display": null,
            "flex": null,
            "flex_flow": null,
            "grid_area": null,
            "grid_auto_columns": null,
            "grid_auto_flow": null,
            "grid_auto_rows": null,
            "grid_column": null,
            "grid_gap": null,
            "grid_row": null,
            "grid_template_areas": null,
            "grid_template_columns": null,
            "grid_template_rows": null,
            "height": null,
            "justify_content": null,
            "justify_items": null,
            "left": null,
            "margin": null,
            "max_height": null,
            "max_width": null,
            "min_height": null,
            "min_width": null,
            "object_fit": null,
            "object_position": null,
            "order": null,
            "overflow": null,
            "overflow_x": null,
            "overflow_y": null,
            "padding": null,
            "right": null,
            "top": null,
            "visibility": null,
            "width": null
          }
        },
        "1a5407ce319147bbb3a66a2f6703461e": {
          "model_module": "@jupyter-widgets/controls",
          "model_name": "ProgressStyleModel",
          "model_module_version": "1.5.0",
          "state": {
            "_model_module": "@jupyter-widgets/controls",
            "_model_module_version": "1.5.0",
            "_model_name": "ProgressStyleModel",
            "_view_count": null,
            "_view_module": "@jupyter-widgets/base",
            "_view_module_version": "1.2.0",
            "_view_name": "StyleView",
            "bar_color": null,
            "description_width": ""
          }
        },
        "d8d43e670f4346958a2d84aa490e1cc8": {
          "model_module": "@jupyter-widgets/base",
          "model_name": "LayoutModel",
          "model_module_version": "1.2.0",
          "state": {
            "_model_module": "@jupyter-widgets/base",
            "_model_module_version": "1.2.0",
            "_model_name": "LayoutModel",
            "_view_count": null,
            "_view_module": "@jupyter-widgets/base",
            "_view_module_version": "1.2.0",
            "_view_name": "LayoutView",
            "align_content": null,
            "align_items": null,
            "align_self": null,
            "border": null,
            "bottom": null,
            "display": null,
            "flex": null,
            "flex_flow": null,
            "grid_area": null,
            "grid_auto_columns": null,
            "grid_auto_flow": null,
            "grid_auto_rows": null,
            "grid_column": null,
            "grid_gap": null,
            "grid_row": null,
            "grid_template_areas": null,
            "grid_template_columns": null,
            "grid_template_rows": null,
            "height": null,
            "justify_content": null,
            "justify_items": null,
            "left": null,
            "margin": null,
            "max_height": null,
            "max_width": null,
            "min_height": null,
            "min_width": null,
            "object_fit": null,
            "object_position": null,
            "order": null,
            "overflow": null,
            "overflow_x": null,
            "overflow_y": null,
            "padding": null,
            "right": null,
            "top": null,
            "visibility": null,
            "width": null
          }
        },
        "58e54df0b2a0446595a0cc7eda823d7a": {
          "model_module": "@jupyter-widgets/controls",
          "model_name": "DescriptionStyleModel",
          "model_module_version": "1.5.0",
          "state": {
            "_model_module": "@jupyter-widgets/controls",
            "_model_module_version": "1.5.0",
            "_model_name": "DescriptionStyleModel",
            "_view_count": null,
            "_view_module": "@jupyter-widgets/base",
            "_view_module_version": "1.2.0",
            "_view_name": "StyleView",
            "description_width": ""
          }
        }
      }
    }
  },
  "nbformat": 4,
  "nbformat_minor": 0
}